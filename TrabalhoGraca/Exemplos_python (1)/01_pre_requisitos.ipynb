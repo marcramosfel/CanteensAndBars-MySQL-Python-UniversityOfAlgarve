{
 "cells": [
  {
   "cell_type": "markdown",
   "metadata": {},
   "source": [
    "# Acesso a bases de dados MySQL com Python  \n",
    "Pedro Cardoso\n",
    "\n",
    "(ISE/UAlg - pcardoso@ualg.pt)\n",
    "\n",
    "Para este tutorial, necessita configurar duas coisas: \n",
    "- servidor MySQL - serviços necessários para lidar com a BD. (Assume-se que está instalado, a correr e tem a BD Adamastor)\n",
    "- conector MySQL - conectar o aplicativo Python ao MySQL."
   ]
  },
  {
   "cell_type": "markdown",
   "metadata": {},
   "source": [
    "## Servidores\n",
    "\n",
    "### MySQL\n",
    "Verificar que têm um servidor de MySQL/MariaDB a correr. Para quem estiver a usar MS Windows ou Linux sugere-se a instalação do XAMPP https://www.apachefriends.org/index.html. \n",
    "\n",
    "Podem verificar se o vosso servidor está a correr se seguirem o link http://localhost/phpmyadmin.\n",
    "\n",
    "Estando no phpmyadmin, aproveiem para criar um utilizador e a base de dados necessária para o resto da aula. Para tal, certifiquem-se que no `host` que indicarem (no caso `localhost` mas poderiam usar outro servidor, noutra máquina) existe base de dados, utilizador e password corretas, i.e., para os exemplos abaixo, existe uma base de dados chamada `adamastor` à qual o utilizador `adam` com password `adam` tem acesso.\n",
    "\n",
    "![adamastor.png](adamastor.png)\n",
    "\n",
    "### SQLite\n",
    "\n",
    "No caso do SQLite não é necessário instalar qualquer servidor"
   ]
  },
  {
   "cell_type": "markdown",
   "metadata": {},
   "source": [
    "## Conectores instalados\n",
    "Verificar que todos os módulos necessários estão instalados, nomeadamente:\n",
    "### MySQL\n",
    "Neste caso pode de ter de instalar o `mysql-connector`\n",
    "\n",
    "(Dependendo do seu sistema poderá ter de substituir pip3 por pip, pip3.7, pip3.8, ...)"
   ]
  },
  {
   "cell_type": "code",
   "execution_count": 1,
   "metadata": {
    "scrolled": false
   },
   "outputs": [
    {
     "name": "stdout",
     "output_type": "stream",
     "text": [
      "Collecting mysql-connector-python\n",
      "  Downloading mysql_connector_python-8.0.27-1commercial-cp38-cp38-win_amd64.whl (7.7 MB)\n",
      "Collecting protobuf>=3.0.0\n",
      "  Downloading protobuf-3.19.0-cp38-cp38-win_amd64.whl (895 kB)\n",
      "Installing collected packages: protobuf, mysql-connector-python\n",
      "Successfully installed mysql-connector-python-8.0.27 protobuf-3.19.0\n"
     ]
    }
   ],
   "source": [
    "!pip install mysql-connector-python"
   ]
  },
  {
   "cell_type": "markdown",
   "metadata": {},
   "source": [
    "### SQLite\n",
    "Neste caso pode de ter de instalar o `sqlite3` [ https://docs.python.org/2/library/sqlite3.html ]\n",
    "\n",
    "(Dependendo do seu sistema poderá ter de substituir pip3 por pip, pip3.7, pip3.8, ...)"
   ]
  },
  {
   "cell_type": "code",
   "execution_count": 2,
   "metadata": {
    "scrolled": true
   },
   "outputs": [
    {
     "name": "stdout",
     "output_type": "stream",
     "text": [
      "Collecting pysqlite3\n",
      "  Downloading pysqlite3-0.4.6.tar.gz (40 kB)\n",
      "Building wheels for collected packages: pysqlite3\n",
      "  Building wheel for pysqlite3 (setup.py): started\n",
      "  Building wheel for pysqlite3 (setup.py): finished with status 'done'\n",
      "  Running setup.py clean for pysqlite3\n",
      "Failed to build pysqlite3\n",
      "Installing collected packages: pysqlite3\n",
      "    Running setup.py install for pysqlite3: started\n",
      "    Running setup.py install for pysqlite3: finished with status 'done'\n",
      "Successfully installed pysqlite3\n"
     ]
    },
    {
     "name": "stderr",
     "output_type": "stream",
     "text": [
      "  WARNING: Legacy build of wheel for 'pysqlite3' created no files.\n",
      "  Command arguments: 'C:\\Users\\pjsca\\anaconda3\\envs\\kivyEnv\\python.exe' -u -c 'import sys, setuptools, tokenize; sys.argv[0] = '\"'\"'C:\\\\Users\\\\pjsca\\\\AppData\\\\Local\\\\Temp\\\\pip-install-32v396ya\\\\pysqlite3_9a077f92bce348fc894866bab08a860e\\\\setup.py'\"'\"'; __file__='\"'\"'C:\\\\Users\\\\pjsca\\\\AppData\\\\Local\\\\Temp\\\\pip-install-32v396ya\\\\pysqlite3_9a077f92bce348fc894866bab08a860e\\\\setup.py'\"'\"';f=getattr(tokenize, '\"'\"'open'\"'\"', open)(__file__);code=f.read().replace('\"'\"'\\r\\n'\"'\"', '\"'\"'\\n'\"'\"');f.close();exec(compile(code, __file__, '\"'\"'exec'\"'\"'))' bdist_wheel -d 'C:\\Users\\pjsca\\AppData\\Local\\Temp\\pip-wheel-3pk_8fhc'\n",
      "  Command output: [use --verbose to show]\n"
     ]
    }
   ],
   "source": [
    "!pip3 install pysqlite3"
   ]
  },
  {
   "cell_type": "markdown",
   "metadata": {},
   "source": [
    "# Exercício\n",
    "\n",
    "Use o phpmyadmin ou o workbench para restaurar a base de dados Adamastor.\n"
   ]
  },
  {
   "cell_type": "code",
   "execution_count": null,
   "metadata": {},
   "outputs": [],
   "source": []
  }
 ],
 "metadata": {
  "kernelspec": {
   "display_name": "Python 3 (ipykernel)",
   "language": "python",
   "name": "python3"
  },
  "language_info": {
   "codemirror_mode": {
    "name": "ipython",
    "version": 3
   },
   "file_extension": ".py",
   "mimetype": "text/x-python",
   "name": "python",
   "nbconvert_exporter": "python",
   "pygments_lexer": "ipython3",
   "version": "3.8.11"
  },
  "nbTranslate": {
   "displayLangs": [
    "pt"
   ],
   "hotkey": "alt-t",
   "langInMainMenu": true,
   "sourceLang": "en",
   "targetLang": "pt",
   "useGoogleTranslate": true
  },
  "toc": {
   "base_numbering": 1,
   "nav_menu": {
    "height": "307px",
    "width": "476px"
   },
   "number_sections": true,
   "sideBar": true,
   "skip_h1_title": false,
   "title_cell": "Table of Contents",
   "title_sidebar": "Contents",
   "toc_cell": false,
   "toc_position": {},
   "toc_section_display": true,
   "toc_window_display": false
  },
  "varInspector": {
   "cols": {
    "lenName": 16,
    "lenType": 16,
    "lenVar": 40
   },
   "kernels_config": {
    "python": {
     "delete_cmd_postfix": "",
     "delete_cmd_prefix": "del ",
     "library": "var_list.py",
     "varRefreshCmd": "print(var_dic_list())"
    },
    "r": {
     "delete_cmd_postfix": ") ",
     "delete_cmd_prefix": "rm(",
     "library": "var_list.r",
     "varRefreshCmd": "cat(var_dic_list()) "
    }
   },
   "types_to_exclude": [
    "module",
    "function",
    "builtin_function_or_method",
    "instance",
    "_Feature"
   ],
   "window_display": false
  }
 },
 "nbformat": 4,
 "nbformat_minor": 2
}
