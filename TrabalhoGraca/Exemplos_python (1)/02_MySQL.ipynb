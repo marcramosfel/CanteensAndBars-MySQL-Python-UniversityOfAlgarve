{
 "cells": [
  {
   "cell_type": "markdown",
   "metadata": {},
   "source": [
    "# Acesso a bases de dados MySQL com Python  \n",
    "Pedro Cardoso\n",
    "\n",
    "(ISE/UAlg - pcardoso@ualg.pt)"
   ]
  },
  {
   "cell_type": "markdown",
   "metadata": {},
   "source": [
    "## Estabelecimento de conexão à base de dados usando um Connector/Python"
   ]
  },
  {
   "cell_type": "markdown",
   "metadata": {},
   "source": [
    "o método  `connect()` cria uma conexão a um servidor MySQL e devolve um objeto `MySQLConnection`.\n",
    "(ver https://dev.mysql.com/doc/connector-python/en/connector-python-connectargs.html para outros argumentos e opções)"
   ]
  },
  {
   "cell_type": "code",
   "execution_count": 2,
   "metadata": {
    "ExecuteTime": {
     "end_time": "2019-11-22T13:07:28.608845Z",
     "start_time": "2019-11-22T13:07:28.591863Z"
    }
   },
   "outputs": [
    {
     "ename": "DatabaseError",
     "evalue": "2003 (HY000): Can't connect to MySQL server on 'localhost:3306' (10061)",
     "output_type": "error",
     "traceback": [
      "\u001b[1;31m---------------------------------------------------------------------------\u001b[0m",
      "\u001b[1;31mMySQLInterfaceError\u001b[0m                       Traceback (most recent call last)",
      "\u001b[1;32mc:\\users\\pjsca\\anaconda3\\envs\\kivyenv\\lib\\site-packages\\mysql\\connector\\connection_cext.py\u001b[0m in \u001b[0;36m_open_connection\u001b[1;34m(self)\u001b[0m\n\u001b[0;32m    236\u001b[0m         \u001b[1;32mtry\u001b[0m\u001b[1;33m:\u001b[0m\u001b[1;33m\u001b[0m\u001b[1;33m\u001b[0m\u001b[0m\n\u001b[1;32m--> 237\u001b[1;33m             \u001b[0mself\u001b[0m\u001b[1;33m.\u001b[0m\u001b[0m_cmysql\u001b[0m\u001b[1;33m.\u001b[0m\u001b[0mconnect\u001b[0m\u001b[1;33m(\u001b[0m\u001b[1;33m**\u001b[0m\u001b[0mcnx_kwargs\u001b[0m\u001b[1;33m)\u001b[0m\u001b[1;33m\u001b[0m\u001b[1;33m\u001b[0m\u001b[0m\n\u001b[0m\u001b[0;32m    238\u001b[0m             \u001b[0mself\u001b[0m\u001b[1;33m.\u001b[0m\u001b[0m_cmysql\u001b[0m\u001b[1;33m.\u001b[0m\u001b[0mconverter_str_fallback\u001b[0m \u001b[1;33m=\u001b[0m \u001b[0mself\u001b[0m\u001b[1;33m.\u001b[0m\u001b[0m_converter_str_fallback\u001b[0m\u001b[1;33m\u001b[0m\u001b[1;33m\u001b[0m\u001b[0m\n",
      "\u001b[1;31mMySQLInterfaceError\u001b[0m: Can't connect to MySQL server on 'localhost:3306' (10061)",
      "\nDuring handling of the above exception, another exception occurred:\n",
      "\u001b[1;31mDatabaseError\u001b[0m                             Traceback (most recent call last)",
      "\u001b[1;32m~\\AppData\\Local\\Temp/ipykernel_8660/3783672898.py\u001b[0m in \u001b[0;36m<module>\u001b[1;34m\u001b[0m\n\u001b[0;32m      1\u001b[0m \u001b[1;32mimport\u001b[0m \u001b[0mmysql\u001b[0m\u001b[1;33m.\u001b[0m\u001b[0mconnector\u001b[0m\u001b[1;33m\u001b[0m\u001b[1;33m\u001b[0m\u001b[0m\n\u001b[0;32m      2\u001b[0m \u001b[1;33m\u001b[0m\u001b[0m\n\u001b[1;32m----> 3\u001b[1;33m cnx = mysql.connector.connect(user='adam', \n\u001b[0m\u001b[0;32m      4\u001b[0m                               \u001b[0mpassword\u001b[0m\u001b[1;33m=\u001b[0m\u001b[1;34m'adam'\u001b[0m\u001b[1;33m,\u001b[0m\u001b[1;33m\u001b[0m\u001b[1;33m\u001b[0m\u001b[0m\n\u001b[0;32m      5\u001b[0m                               \u001b[0mhost\u001b[0m\u001b[1;33m=\u001b[0m\u001b[1;34m'localhost'\u001b[0m\u001b[1;33m,\u001b[0m \u001b[1;31m# replace 'localhost', if necessary\u001b[0m\u001b[1;33m\u001b[0m\u001b[1;33m\u001b[0m\u001b[0m\n",
      "\u001b[1;32mc:\\users\\pjsca\\anaconda3\\envs\\kivyenv\\lib\\site-packages\\mysql\\connector\\__init__.py\u001b[0m in \u001b[0;36mconnect\u001b[1;34m(*args, **kwargs)\u001b[0m\n\u001b[0;32m    271\u001b[0m \u001b[1;33m\u001b[0m\u001b[0m\n\u001b[0;32m    272\u001b[0m     \u001b[1;32mif\u001b[0m \u001b[0mHAVE_CEXT\u001b[0m \u001b[1;32mand\u001b[0m \u001b[1;32mnot\u001b[0m \u001b[0muse_pure\u001b[0m\u001b[1;33m:\u001b[0m\u001b[1;33m\u001b[0m\u001b[1;33m\u001b[0m\u001b[0m\n\u001b[1;32m--> 273\u001b[1;33m         \u001b[1;32mreturn\u001b[0m \u001b[0mCMySQLConnection\u001b[0m\u001b[1;33m(\u001b[0m\u001b[1;33m*\u001b[0m\u001b[0margs\u001b[0m\u001b[1;33m,\u001b[0m \u001b[1;33m**\u001b[0m\u001b[0mkwargs\u001b[0m\u001b[1;33m)\u001b[0m\u001b[1;33m\u001b[0m\u001b[1;33m\u001b[0m\u001b[0m\n\u001b[0m\u001b[0;32m    274\u001b[0m     \u001b[1;32mreturn\u001b[0m \u001b[0mMySQLConnection\u001b[0m\u001b[1;33m(\u001b[0m\u001b[1;33m*\u001b[0m\u001b[0margs\u001b[0m\u001b[1;33m,\u001b[0m \u001b[1;33m**\u001b[0m\u001b[0mkwargs\u001b[0m\u001b[1;33m)\u001b[0m\u001b[1;33m\u001b[0m\u001b[1;33m\u001b[0m\u001b[0m\n\u001b[0;32m    275\u001b[0m \u001b[0mConnect\u001b[0m \u001b[1;33m=\u001b[0m \u001b[0mconnect\u001b[0m  \u001b[1;31m# pylint: disable=C0103\u001b[0m\u001b[1;33m\u001b[0m\u001b[1;33m\u001b[0m\u001b[0m\n",
      "\u001b[1;32mc:\\users\\pjsca\\anaconda3\\envs\\kivyenv\\lib\\site-packages\\mysql\\connector\\connection_cext.py\u001b[0m in \u001b[0;36m__init__\u001b[1;34m(self, **kwargs)\u001b[0m\n\u001b[0;32m     84\u001b[0m \u001b[1;33m\u001b[0m\u001b[0m\n\u001b[0;32m     85\u001b[0m         \u001b[1;32mif\u001b[0m \u001b[0mkwargs\u001b[0m\u001b[1;33m:\u001b[0m\u001b[1;33m\u001b[0m\u001b[1;33m\u001b[0m\u001b[0m\n\u001b[1;32m---> 86\u001b[1;33m             \u001b[0mself\u001b[0m\u001b[1;33m.\u001b[0m\u001b[0mconnect\u001b[0m\u001b[1;33m(\u001b[0m\u001b[1;33m**\u001b[0m\u001b[0mkwargs\u001b[0m\u001b[1;33m)\u001b[0m\u001b[1;33m\u001b[0m\u001b[1;33m\u001b[0m\u001b[0m\n\u001b[0m\u001b[0;32m     87\u001b[0m \u001b[1;33m\u001b[0m\u001b[0m\n\u001b[0;32m     88\u001b[0m     \u001b[1;32mdef\u001b[0m \u001b[0m_add_default_conn_attrs\u001b[0m\u001b[1;33m(\u001b[0m\u001b[0mself\u001b[0m\u001b[1;33m)\u001b[0m\u001b[1;33m:\u001b[0m\u001b[1;33m\u001b[0m\u001b[1;33m\u001b[0m\u001b[0m\n",
      "\u001b[1;32mc:\\users\\pjsca\\anaconda3\\envs\\kivyenv\\lib\\site-packages\\mysql\\connector\\abstracts.py\u001b[0m in \u001b[0;36mconnect\u001b[1;34m(self, **kwargs)\u001b[0m\n\u001b[0;32m   1013\u001b[0m \u001b[1;33m\u001b[0m\u001b[0m\n\u001b[0;32m   1014\u001b[0m         \u001b[0mself\u001b[0m\u001b[1;33m.\u001b[0m\u001b[0mdisconnect\u001b[0m\u001b[1;33m(\u001b[0m\u001b[1;33m)\u001b[0m\u001b[1;33m\u001b[0m\u001b[1;33m\u001b[0m\u001b[0m\n\u001b[1;32m-> 1015\u001b[1;33m         \u001b[0mself\u001b[0m\u001b[1;33m.\u001b[0m\u001b[0m_open_connection\u001b[0m\u001b[1;33m(\u001b[0m\u001b[1;33m)\u001b[0m\u001b[1;33m\u001b[0m\u001b[1;33m\u001b[0m\u001b[0m\n\u001b[0m\u001b[0;32m   1016\u001b[0m         \u001b[1;31m# Server does not allow to run any other statement different from ALTER\u001b[0m\u001b[1;33m\u001b[0m\u001b[1;33m\u001b[0m\u001b[1;33m\u001b[0m\u001b[0m\n\u001b[0;32m   1017\u001b[0m         \u001b[1;31m# when user's password has been expired.\u001b[0m\u001b[1;33m\u001b[0m\u001b[1;33m\u001b[0m\u001b[1;33m\u001b[0m\u001b[0m\n",
      "\u001b[1;32mc:\\users\\pjsca\\anaconda3\\envs\\kivyenv\\lib\\site-packages\\mysql\\connector\\connection_cext.py\u001b[0m in \u001b[0;36m_open_connection\u001b[1;34m(self)\u001b[0m\n\u001b[0;32m    240\u001b[0m                 \u001b[0mself\u001b[0m\u001b[1;33m.\u001b[0m\u001b[0mconverter\u001b[0m\u001b[1;33m.\u001b[0m\u001b[0mstr_fallback\u001b[0m \u001b[1;33m=\u001b[0m \u001b[0mself\u001b[0m\u001b[1;33m.\u001b[0m\u001b[0m_converter_str_fallback\u001b[0m\u001b[1;33m\u001b[0m\u001b[1;33m\u001b[0m\u001b[0m\n\u001b[0;32m    241\u001b[0m         \u001b[1;32mexcept\u001b[0m \u001b[0mMySQLInterfaceError\u001b[0m \u001b[1;32mas\u001b[0m \u001b[0mexc\u001b[0m\u001b[1;33m:\u001b[0m\u001b[1;33m\u001b[0m\u001b[1;33m\u001b[0m\u001b[0m\n\u001b[1;32m--> 242\u001b[1;33m             raise errors.get_mysql_exception(msg=exc.msg, errno=exc.errno,\n\u001b[0m\u001b[0;32m    243\u001b[0m                                              sqlstate=exc.sqlstate)\n\u001b[0;32m    244\u001b[0m \u001b[1;33m\u001b[0m\u001b[0m\n",
      "\u001b[1;31mDatabaseError\u001b[0m: 2003 (HY000): Can't connect to MySQL server on 'localhost:3306' (10061)"
     ]
    }
   ],
   "source": [
    "import mysql.connector\n",
    "\n",
    "cnx = mysql.connector.connect(user='adam', \n",
    "                              password='adam',\n",
    "                              host='localhost', # replace 'localhost', if necessary\n",
    "                              database='adamastor')\n",
    "cnx"
   ]
  },
  {
   "cell_type": "markdown",
   "metadata": {},
   "source": [
    "Algumas informações sobre a conexão podem ser consultadas no `__dict__`"
   ]
  },
  {
   "cell_type": "code",
   "execution_count": 4,
   "metadata": {
    "ExecuteTime": {
     "end_time": "2019-11-22T13:07:29.668117Z",
     "start_time": "2019-11-22T13:07:29.663109Z"
    }
   },
   "outputs": [
    {
     "data": {
      "text/plain": [
       "{'_cmysql': <_mysql_connector.MySQL at 0x2264a00>,\n",
       " '_columns': [],\n",
       " '_plugin_dir': '/home/pcardoso/.local/lib/python3.8/site-packages/mysql/vendor',\n",
       " 'converter': None,\n",
       " '_client_flags': 1286669,\n",
       " '_charset_id': 45,\n",
       " '_sql_mode': None,\n",
       " '_time_zone': None,\n",
       " '_autocommit': False,\n",
       " '_server_version': (5, 5, 5),\n",
       " '_handshake': {'protocol': 10,\n",
       "  'server_version_original': '5.5.5-10.4.11-MariaDB',\n",
       "  'server_threadid': 20,\n",
       "  'charset': None,\n",
       "  'server_status': None,\n",
       "  'auth_plugin': None,\n",
       "  'auth_data': None,\n",
       "  'capabilities': -2113931266},\n",
       " '_conn_attrs': {'_connector_name': 'mysql-connector-python',\n",
       "  '_connector_license': 'GPL-2.0',\n",
       "  '_connector_version': '8.0.23',\n",
       "  '_source_host': 'pcardoso-kubuntu-desktop'},\n",
       " '_user': 'adam',\n",
       " '_password': 'adam',\n",
       " '_database': 'adamastor',\n",
       " '_host': 'localhost',\n",
       " '_port': 3306,\n",
       " '_unix_socket': None,\n",
       " '_client_host': '',\n",
       " '_client_port': 0,\n",
       " '_ssl': {},\n",
       " '_ssl_disabled': False,\n",
       " '_force_ipv6': False,\n",
       " '_use_unicode': True,\n",
       " '_get_warnings': False,\n",
       " '_raise_on_warnings': False,\n",
       " '_connection_timeout': None,\n",
       " '_buffered': False,\n",
       " '_unread_result': False,\n",
       " '_have_next_result': False,\n",
       " '_raw': False,\n",
       " '_in_transaction': False,\n",
       " '_allow_local_infile': False,\n",
       " '_allow_local_infile_in_path': None,\n",
       " '_prepared_statements': None,\n",
       " '_ssl_active': False,\n",
       " '_auth_plugin': '',\n",
       " '_pool_config_version': None,\n",
       " '_converter_class': None,\n",
       " '_compress': False,\n",
       " '_consume_results': False}"
      ]
     },
     "execution_count": 4,
     "metadata": {},
     "output_type": "execute_result"
    }
   ],
   "source": [
    "cnx.__dict__"
   ]
  },
  {
   "cell_type": "markdown",
   "metadata": {},
   "source": [
    "E no final devemos libertar sempre a conexão"
   ]
  },
  {
   "cell_type": "code",
   "execution_count": 5,
   "metadata": {
    "ExecuteTime": {
     "end_time": "2019-11-22T13:07:30.970324Z",
     "start_time": "2019-11-22T13:07:30.966332Z"
    }
   },
   "outputs": [],
   "source": [
    "cnx.close()"
   ]
  },
  {
   "cell_type": "code",
   "execution_count": null,
   "metadata": {},
   "outputs": [],
   "source": []
  },
  {
   "cell_type": "markdown",
   "metadata": {
    "ExecuteTime": {
     "end_time": "2018-02-28T17:08:57.922200Z",
     "start_time": "2018-02-28T17:08:57.917199Z"
    },
    "collapsed": true
   },
   "source": [
    "### Ficheiro de configuração  e tratamento de exceções\n",
    "De um modo geral é aconselhável\n",
    "* fazer tratamento de exceções \n",
    "* e criar um ficheiro de configuração (config.py) \n",
    "```\n",
    "config = {\n",
    "    'host' : 'localhost',\n",
    "    'user' : 'adam',\n",
    "    'password' : 'adam',\n",
    "    'db' : 'adamastor'\n",
    "}\n",
    "```\n",
    "e depois fazer..."
   ]
  },
  {
   "cell_type": "code",
   "execution_count": 7,
   "metadata": {
    "ExecuteTime": {
     "end_time": "2019-11-22T13:07:33.527609Z",
     "start_time": "2019-11-22T13:07:33.518621Z"
    }
   },
   "outputs": [
    {
     "data": {
      "text/plain": [
       "{'host': 'localhost', 'user': 'adam', 'password': 'adam', 'db': 'adamastor'}"
      ]
     },
     "execution_count": 7,
     "metadata": {},
     "output_type": "execute_result"
    }
   ],
   "source": [
    "# Comecamos por importar o ficheiro de configuração\n",
    "import mysql.connector\n",
    "\n",
    "from config import config\n",
    "config"
   ]
  },
  {
   "cell_type": "code",
   "execution_count": 8,
   "metadata": {},
   "outputs": [
    {
     "name": "stdout",
     "output_type": "stream",
     "text": [
      "Sucesso!\n"
     ]
    }
   ],
   "source": [
    "try:\n",
    "    cnx = mysql.connector.connect(**config)\n",
    "except mysql.connector.Error as err:\n",
    "    print('Ups! Ocorreu um erro!')\n",
    "    print(dir(err))\n",
    "    print(err.errno)\n",
    "else:\n",
    "    print('Sucesso!')\n",
    "    cnx.close()"
   ]
  },
  {
   "cell_type": "markdown",
   "metadata": {
    "lang": "pt"
   },
   "source": [
    "### Exercício\n",
    "1. Experimentem a desligar o servidor e correr a linha acima: qual a mensagem de erro?\n",
    "2. Mude o nome do utilizador no ficheiro de configuração (reinicie o kernel) e corra a linha acima: qual a mensagem de erro?\n",
    "3. Re-implemente o código de modo a dar a mensagem adequada quando falhar pelo servidor estar desligado e voltar a tentar mais 2 vezes a cada 5 segundos (vejam o pacote `time` e particular o método `sleep()`)"
   ]
  },
  {
   "cell_type": "code",
   "execution_count": 9,
   "metadata": {},
   "outputs": [
    {
     "name": "stdout",
     "output_type": "stream",
     "text": [
      "ola\n",
      "ola de novo!\n"
     ]
    }
   ],
   "source": [
    "import time\n",
    "print('ola')\n",
    "time.sleep(5)\n",
    "print('ola de novo!')"
   ]
  },
  {
   "cell_type": "markdown",
   "metadata": {},
   "source": [
    "## Operações de DDL: Criação de uma base de dados\n",
    "\n",
    "Para a criação das tabelas e relacionamentos podemos construiro o sql ou, como alternativa, podemos usar ferramentas como sejam o MySQL Workbench, o Phpmyadmin, o SQlite Browser, o DataGrip, etc. \n",
    "\n",
    "\n",
    "Consideremos o caso em que a base de dados já existe..."
   ]
  },
  {
   "cell_type": "markdown",
   "metadata": {},
   "source": [
    "## Operações CRUD"
   ]
  },
  {
   "cell_type": "markdown",
   "metadata": {},
   "source": [
    "### `INSERT` \n",
    "\n",
    "Aberta a conexão em MySQL, O comando `cnx.cursor()` devolve um objeto da classe `MySQLCursor` que podem executar operações como instruções SQL. Objetos de `cursor` interagem com o servidor MySQL usando um objeto `MySQLConnection`. Para mais informações ver https://dev.mysql.com/doc/connector-python/en/connector-python-api-mysqlcursor.html"
   ]
  },
  {
   "cell_type": "code",
   "execution_count": 11,
   "metadata": {
    "ExecuteTime": {
     "end_time": "2019-11-22T13:08:49.724122Z",
     "start_time": "2019-11-22T13:08:49.719128Z"
    }
   },
   "outputs": [
    {
     "data": {
      "text/plain": [
       "<mysql.connector.cursor_cext.CMySQLCursor at 0x7f0758e7b370>"
      ]
     },
     "execution_count": 11,
     "metadata": {},
     "output_type": "execute_result"
    }
   ],
   "source": [
    "cnx = mysql.connector.connect(**config)\n",
    "cursor = cnx.cursor()\n",
    "cursor"
   ]
  },
  {
   "cell_type": "markdown",
   "metadata": {},
   "source": [
    "#### localização\n",
    "Uma boa estratégia é definir variáveis no SQL usando parametros no estilo `%s` or `%(nome)s` (i.e., usar o estilo \"format\" ou \"pyformat\" - ver https://pyformat.info/) e um tuplo com os dados"
   ]
  },
  {
   "cell_type": "code",
   "execution_count": 14,
   "metadata": {
    "ExecuteTime": {
     "end_time": "2019-11-22T13:08:53.719172Z",
     "start_time": "2019-11-22T13:08:53.703188Z"
    }
   },
   "outputs": [],
   "source": [
    "sql = '''\n",
    "    INSERT INTO categorias\n",
    "        (CódigoDaCategoria, NomeDaCategoria, Descrição, Imagem) \n",
    "    VALUES \n",
    "        (DEFAULT, %s, %s, NULL)\n",
    "'''\n",
    "# e um tuplo com os dados\n",
    "data = (\"Teste-Nome\", \"Teste-descrição\")"
   ]
  },
  {
   "cell_type": "markdown",
   "metadata": {},
   "source": [
    "e agora inserir uma nova categoria na base de dados e obter o id correspondente, guardado em `cat_id` e que poderemos usar à frente"
   ]
  },
  {
   "cell_type": "code",
   "execution_count": 15,
   "metadata": {},
   "outputs": [
    {
     "data": {
      "text/plain": [
       "9"
      ]
     },
     "execution_count": 15,
     "metadata": {},
     "output_type": "execute_result"
    }
   ],
   "source": [
    "cursor.execute(sql, data)\n",
    "categoria_id = cursor.lastrowid\n",
    "categoria_id_id"
   ]
  },
  {
   "cell_type": "markdown",
   "metadata": {},
   "source": [
    "Importante, quando estamos a usar um sistema transacional, como o InnoDB, temos de efetuar o \"commit\" depois de fazer um INSERT, DELETE, ou UPDATE (comandos que alterem tabelas).\n",
    "ver (https://dev.mysql.com/doc/connector-python/en/connector-python-api-mysqlconnection-commit.html)"
   ]
  },
  {
   "cell_type": "code",
   "execution_count": 16,
   "metadata": {
    "ExecuteTime": {
     "end_time": "2019-11-22T13:34:21.363514Z",
     "start_time": "2019-11-22T13:34:21.360517Z"
    }
   },
   "outputs": [],
   "source": [
    "cnx.commit()"
   ]
  },
  {
   "cell_type": "markdown",
   "metadata": {},
   "source": [
    "#### Transitários\n",
    "Inserir um nova `transitários`, se não existir (ver a documentação do comando `REPLACE` do SQL)"
   ]
  },
  {
   "cell_type": "markdown",
   "metadata": {},
   "source": [
    "Preparar os dados, agora com um dicionário que tem em conta `%(nome)s, %(telefone)s`\n"
   ]
  },
  {
   "cell_type": "code",
   "execution_count": 18,
   "metadata": {
    "ExecuteTime": {
     "end_time": "2019-11-22T13:34:30.229473Z",
     "start_time": "2019-11-22T13:34:30.137267Z"
    }
   },
   "outputs": [],
   "source": [
    "sql = ''' \n",
    "    REPLACE INTO transitarios\n",
    "        (CódigoDoTransitário, NomeDaEmpresa, Telefone)\n",
    "    VALUES\n",
    "        (DEFAULT, %(nome)s, %(telefone)s)\n",
    "'''\n",
    "\n",
    "data = {\n",
    "    \"nome\": \"UPS\", \n",
    "    \"telefone\": \"(351)289800800\"\n",
    "}\n",
    "\n",
    "cursor.execute(sql, data)\n",
    "cnx.commit()"
   ]
  },
  {
   "cell_type": "code",
   "execution_count": 20,
   "metadata": {},
   "outputs": [
    {
     "data": {
      "text/plain": [
       "5"
      ]
     },
     "execution_count": 20,
     "metadata": {},
     "output_type": "execute_result"
    }
   ],
   "source": [
    "\n",
    "transitatio_id = cursor.lastrowid\n",
    "transitatio_id"
   ]
  },
  {
   "cell_type": "code",
   "execution_count": 21,
   "metadata": {},
   "outputs": [],
   "source": [
    "cnx.close()"
   ]
  },
  {
   "cell_type": "markdown",
   "metadata": {},
   "source": [
    "## Selecionar dados\n",
    "\n",
    "Todo o processo é simples dados os conhecimentos anteriores"
   ]
  },
  {
   "cell_type": "code",
   "execution_count": 22,
   "metadata": {
    "ExecuteTime": {
     "end_time": "2019-11-22T13:37:18.950327Z",
     "start_time": "2019-11-22T13:37:18.946318Z"
    }
   },
   "outputs": [],
   "source": [
    "cnx = mysql.connector.connect(**config)\n",
    "cursor = cnx.cursor()  "
   ]
  },
  {
   "cell_type": "code",
   "execution_count": 27,
   "metadata": {
    "ExecuteTime": {
     "end_time": "2019-11-22T13:37:21.229543Z",
     "start_time": "2019-11-22T13:37:21.225551Z"
    }
   },
   "outputs": [],
   "source": [
    "sql = '''\n",
    "    SELECT CódigoDoTransitário, NomeDaEmpresa, Telefone\n",
    "    FROM transitarios;\n",
    "'''\n",
    "\n",
    "cursor.execute(sql)"
   ]
  },
  {
   "cell_type": "code",
   "execution_count": 28,
   "metadata": {},
   "outputs": [
    {
     "data": {
      "text/plain": [
       "<mysql.connector.cursor_cext.CMySQLCursor at 0x7f0758d48430>"
      ]
     },
     "execution_count": 28,
     "metadata": {},
     "output_type": "execute_result"
    }
   ],
   "source": [
    "cursor"
   ]
  },
  {
   "cell_type": "markdown",
   "metadata": {},
   "source": [
    "E percorrer os dados, usando por exemplo um ciclo `for`"
   ]
  },
  {
   "cell_type": "code",
   "execution_count": 29,
   "metadata": {},
   "outputs": [
    {
     "name": "stdout",
     "output_type": "stream",
     "text": [
      "id: 1\n",
      "\t name: Speedy Express \n",
      "\t description: (503) 555-9831\n",
      "id: 2\n",
      "\t name: United Package \n",
      "\t description: (503) 555-3199\n",
      "id: 3\n",
      "\t name: Federal Shipping \n",
      "\t description: (503) 555-9931\n",
      "id: 5\n",
      "\t name: UPS \n",
      "\t description: (351)289800800\n"
     ]
    }
   ],
   "source": [
    "for (codigo, nome, telefone) in cursor:\n",
    "    print(\"id: {}\\n\\t name: {} \\n\\t description: {}\".format(codigo, nome, telefone))\n"
   ]
  },
  {
   "cell_type": "markdown",
   "metadata": {},
   "source": [
    "Outros exemplos"
   ]
  },
  {
   "cell_type": "code",
   "execution_count": 45,
   "metadata": {
    "ExecuteTime": {
     "end_time": "2019-11-22T13:37:23.957214Z",
     "start_time": "2019-11-22T13:37:23.938248Z"
    },
    "scrolled": true
   },
   "outputs": [
    {
     "name": "stdout",
     "output_type": "stream",
     "text": [
      "CódigoDoCliente: CódigoDoCliente\n",
      "\t NomeDaEmpresa: NomeDaEmpresa \n",
      "\t Cidade: Cidade \n",
      "\t País: País \n",
      "\t Telefone: Telefone\n",
      "CódigoDoCliente: CódigoDoCliente\n",
      "\t NomeDaEmpresa: NomeDaEmpresa \n",
      "\t Cidade: Cidade \n",
      "\t País: País \n",
      "\t Telefone: Telefone\n",
      "CódigoDoCliente: CódigoDoCliente\n",
      "\t NomeDaEmpresa: NomeDaEmpresa \n",
      "\t Cidade: Cidade \n",
      "\t País: País \n",
      "\t Telefone: Telefone\n",
      "CódigoDoCliente: CódigoDoCliente\n",
      "\t NomeDaEmpresa: NomeDaEmpresa \n",
      "\t Cidade: Cidade \n",
      "\t País: País \n",
      "\t Telefone: Telefone\n"
     ]
    }
   ],
   "source": [
    "sql = '''\n",
    "SELECT CódigoDoCliente,\n",
    "    NomeDaEmpresa,\n",
    "    Cidade,\n",
    "    País,\n",
    "    Telefone\n",
    "FROM clientes\n",
    "WHERE País BETWEEN %s AND %s\n",
    "ORDER BY País\n",
    "'''\n",
    "data = (\"N\", \"Q\")\n",
    "\n",
    "cursor.execute(sql, data)\n",
    "\n",
    "for (CódigoDoCliente, NomeDaEmpresa, Cidade, País, Telefone) in cursor:\n",
    "    print(f\"\"\"CódigoDoCliente: {CódigoDoCliente}\\n\\t NomeDaEmpresa: {NomeDaEmpresa} \\n\\t Cidade: {Cidade} \\n\\t País: {País} \\n\\t Telefone: {Telefone}\"\"\")"
   ]
  },
  {
   "cell_type": "markdown",
   "metadata": {},
   "source": [
    "Podemos obter os nomes e outros dados das colunas (https://dev.mysql.com/doc/connector-python/en/connector-python-api-mysqlcursor-description.html) no formato\n",
    "(name, type_code, display_size, internal_size, precision, scale, null_ok, column_flags)\n"
   ]
  },
  {
   "cell_type": "code",
   "execution_count": 34,
   "metadata": {},
   "outputs": [
    {
     "data": {
      "text/plain": [
       "[('CódigoDoCliente', 253, None, None, None, None, 1, 16388),\n",
       " ('NomeDaEmpresa', 253, None, None, None, None, 1, 16392),\n",
       " ('Cidade', 253, None, None, None, None, 1, 16392),\n",
       " ('País', 253, None, None, None, None, 1, 0),\n",
       " ('Telefone', 253, None, None, None, None, 1, 0)]"
      ]
     },
     "execution_count": 34,
     "metadata": {},
     "output_type": "execute_result"
    }
   ],
   "source": [
    "cursor.description"
   ]
  },
  {
   "cell_type": "code",
   "execution_count": 35,
   "metadata": {
    "scrolled": true
   },
   "outputs": [
    {
     "name": "stdout",
     "output_type": "stream",
     "text": [
      "Column 1:\n",
      "  column_name = CódigoDoCliente\n",
      "  type = 253 (VAR_STRING)\n",
      "  null_ok = 1\n",
      "Column 2:\n",
      "  column_name = NomeDaEmpresa\n",
      "  type = 253 (VAR_STRING)\n",
      "  null_ok = 1\n",
      "Column 3:\n",
      "  column_name = Cidade\n",
      "  type = 253 (VAR_STRING)\n",
      "  null_ok = 1\n",
      "Column 4:\n",
      "  column_name = País\n",
      "  type = 253 (VAR_STRING)\n",
      "  null_ok = 1\n",
      "Column 5:\n",
      "  column_name = Telefone\n",
      "  type = 253 (VAR_STRING)\n",
      "  null_ok = 1\n"
     ]
    }
   ],
   "source": [
    "from mysql.connector import FieldType\n",
    "\n",
    "for i in range(len(cursor.description)):\n",
    "    print(\"Column {}:\".format(i+1))\n",
    "    desc = cursor.description[i]\n",
    "    print(\"  column_name = {}\".format(desc[0]))\n",
    "    print(\"  type = {} ({})\".format(desc[1], FieldType.get_info(desc[1])))\n",
    "    print(\"  null_ok = {}\".format(desc[6]))"
   ]
  },
  {
   "cell_type": "code",
   "execution_count": 36,
   "metadata": {},
   "outputs": [
    {
     "data": {
      "text/plain": [
       "['CódigoDoCliente', 'NomeDaEmpresa', 'Cidade', 'País', 'Telefone']"
      ]
     },
     "execution_count": 36,
     "metadata": {},
     "output_type": "execute_result"
    }
   ],
   "source": [
    "lista_de_colunas = [linha[0] for linha in cursor.description]\n",
    "lista_de_colunas"
   ]
  },
  {
   "cell_type": "markdown",
   "metadata": {},
   "source": [
    "### o comando `fetchall`\n",
    "Usando o comando `fetchall` podemos obter todos os resultados de uma única vez como uma lista de tuplos"
   ]
  },
  {
   "cell_type": "code",
   "execution_count": 39,
   "metadata": {
    "scrolled": true
   },
   "outputs": [
    {
     "data": {
      "text/plain": [
       "[('SANTG', 'Santé Gourmet', 'Stavern', 'Noruega', '07-98 92 35'),\n",
       " ('WOLZA', 'Wolski  Zajazd', 'Warszawa', 'Polónia', '(26) 642-7012'),\n",
       " ('FURIB',\n",
       "  'Furia Bacalhau e Frutos do Mar',\n",
       "  'Lisboa',\n",
       "  'Portugal',\n",
       "  '(1) 354-2534'),\n",
       " ('PRINI', 'Princesa Isabel Vinhos', 'Lisboa', 'Portugal', '(1) 356-5634')]"
      ]
     },
     "execution_count": 39,
     "metadata": {},
     "output_type": "execute_result"
    }
   ],
   "source": [
    "# é necessario voltar a correr o select pois o cursor foi esvaziado\n",
    "cursor.execute(sql, data)\n",
    "\n",
    "cursor.fetchall()"
   ]
  },
  {
   "cell_type": "markdown",
   "metadata": {},
   "source": [
    "Podemos também converter para um dicionário"
   ]
  },
  {
   "cell_type": "code",
   "execution_count": 41,
   "metadata": {
    "scrolled": true
   },
   "outputs": [
    {
     "name": "stdout",
     "output_type": "stream",
     "text": [
      "{'CódigoDoCliente': 'SANTG', 'NomeDaEmpresa': 'Santé Gourmet', 'Cidade': 'Stavern', 'País': 'Noruega', 'Telefone': '07-98 92 35'}\n",
      "{'CódigoDoCliente': 'WOLZA', 'NomeDaEmpresa': 'Wolski  Zajazd', 'Cidade': 'Warszawa', 'País': 'Polónia', 'Telefone': '(26) 642-7012'}\n",
      "{'CódigoDoCliente': 'FURIB', 'NomeDaEmpresa': 'Furia Bacalhau e Frutos do Mar', 'Cidade': 'Lisboa', 'País': 'Portugal', 'Telefone': '(1) 354-2534'}\n",
      "{'CódigoDoCliente': 'PRINI', 'NomeDaEmpresa': 'Princesa Isabel Vinhos', 'Cidade': 'Lisboa', 'País': 'Portugal', 'Telefone': '(1) 356-5634'}\n"
     ]
    }
   ],
   "source": [
    "# é necessario voltar a correr o select pois o cursor foi \"esvaziado\"\n",
    "cursor.execute(sql, data)\n",
    "\n",
    "for linha in cursor:\n",
    "    print({coluna: valor for valor, coluna  in zip(linha, lista_de_colunas)})"
   ]
  },
  {
   "cell_type": "code",
   "execution_count": 42,
   "metadata": {
    "ExecuteTime": {
     "end_time": "2019-11-22T13:37:26.269746Z",
     "start_time": "2019-11-22T13:37:26.265749Z"
    }
   },
   "outputs": [],
   "source": [
    "cursor.close()\n",
    "cnx.close()"
   ]
  },
  {
   "cell_type": "markdown",
   "metadata": {},
   "source": [
    "### Dados na forma de dicionários\n",
    "\n",
    "Se criar o cursor com o parametro `dictionary=True` ao iterar sobre os resultados estes vêm na forma de dicionários"
   ]
  },
  {
   "cell_type": "code",
   "execution_count": 49,
   "metadata": {},
   "outputs": [
    {
     "name": "stdout",
     "output_type": "stream",
     "text": [
      "[{'Cidade': 'Stavern',\n",
      "  'CódigoDoCliente': 'SANTG',\n",
      "  'NomeDaEmpresa': 'Santé Gourmet',\n",
      "  'País': 'Noruega',\n",
      "  'Telefone': '07-98 92 35'},\n",
      " {'Cidade': 'Warszawa',\n",
      "  'CódigoDoCliente': 'WOLZA',\n",
      "  'NomeDaEmpresa': 'Wolski  Zajazd',\n",
      "  'País': 'Polónia',\n",
      "  'Telefone': '(26) 642-7012'},\n",
      " {'Cidade': 'Lisboa',\n",
      "  'CódigoDoCliente': 'FURIB',\n",
      "  'NomeDaEmpresa': 'Furia Bacalhau e Frutos do Mar',\n",
      "  'País': 'Portugal',\n",
      "  'Telefone': '(1) 354-2534'},\n",
      " {'Cidade': 'Lisboa',\n",
      "  'CódigoDoCliente': 'PRINI',\n",
      "  'NomeDaEmpresa': 'Princesa Isabel Vinhos',\n",
      "  'País': 'Portugal',\n",
      "  'Telefone': '(1) 356-5634'}]\n"
     ]
    }
   ],
   "source": [
    "cnx = mysql.connector.connect(**config)\n",
    "cursor = cnx.cursor(dictionary=True)\n",
    "\n",
    "cursor.execute(sql, data)\n",
    "\n",
    "from pprint import pprint\n",
    "pprint(cursor.fetchall())"
   ]
  },
  {
   "cell_type": "code",
   "execution_count": 50,
   "metadata": {},
   "outputs": [],
   "source": [
    "cursor.close()\n",
    "cnx.close()"
   ]
  }
 ],
 "metadata": {
  "kernelspec": {
   "display_name": "Python 3 (ipykernel)",
   "language": "python",
   "name": "python3"
  },
  "language_info": {
   "codemirror_mode": {
    "name": "ipython",
    "version": 3
   },
   "file_extension": ".py",
   "mimetype": "text/x-python",
   "name": "python",
   "nbconvert_exporter": "python",
   "pygments_lexer": "ipython3",
   "version": "3.8.11"
  },
  "nbTranslate": {
   "displayLangs": [
    "pt"
   ],
   "hotkey": "alt-t",
   "langInMainMenu": true,
   "sourceLang": "en",
   "targetLang": "pt",
   "useGoogleTranslate": true
  },
  "toc": {
   "base_numbering": 1,
   "nav_menu": {
    "height": "307px",
    "width": "476px"
   },
   "number_sections": true,
   "sideBar": true,
   "skip_h1_title": false,
   "title_cell": "Table of Contents",
   "title_sidebar": "Contents",
   "toc_cell": false,
   "toc_position": {},
   "toc_section_display": true,
   "toc_window_display": false
  },
  "varInspector": {
   "cols": {
    "lenName": 16,
    "lenType": 16,
    "lenVar": 40
   },
   "kernels_config": {
    "python": {
     "delete_cmd_postfix": "",
     "delete_cmd_prefix": "del ",
     "library": "var_list.py",
     "varRefreshCmd": "print(var_dic_list())"
    },
    "r": {
     "delete_cmd_postfix": ") ",
     "delete_cmd_prefix": "rm(",
     "library": "var_list.r",
     "varRefreshCmd": "cat(var_dic_list()) "
    }
   },
   "types_to_exclude": [
    "module",
    "function",
    "builtin_function_or_method",
    "instance",
    "_Feature"
   ],
   "window_display": false
  }
 },
 "nbformat": 4,
 "nbformat_minor": 2
}
